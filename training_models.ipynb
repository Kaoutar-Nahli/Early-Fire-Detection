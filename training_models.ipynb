{
 "cells": [
  {
   "cell_type": "code",
   "execution_count": 8,
   "source": [
    "from tensorflow import summary\r\n",
    "%reload_ext tensorboard\r\n",
    "import datetime\r\n",
    "current_time = str(datetime.datetime.now().timestamp())\r\n",
    "train_log_dir = 'logs/tensorboard/train/' + current_time\r\n",
    "test_log_dir = 'logs/tensorboard/test/' + current_time\r\n",
    "train_summary_writer = summary.create_file_writer(train_log_dir)\r\n",
    "test_summary_writer = summary.create_file_writer(test_log_dir)\r\n"
   ],
   "outputs": [],
   "metadata": {}
  },
  {
   "cell_type": "code",
   "execution_count": 11,
   "source": [
    "%tensorboard --logdir logs/tensorboard/runs_inception_part1_0_001_64_Adam_CrossEnt"
   ],
   "outputs": [
    {
     "output_type": "display_data",
     "data": {
      "text/plain": [
       "ERROR: Could not find `tensorboard`. Please ensure that your PATH\n",
       "contains an executable `tensorboard` program, or explicitly specify\n",
       "the path to a TensorBoard binary by setting the `TENSORBOARD_BINARY`\n",
       "environment variable."
      ]
     },
     "metadata": {}
    }
   ],
   "metadata": {}
  },
  {
   "cell_type": "code",
   "execution_count": null,
   "source": [],
   "outputs": [],
   "metadata": {}
  }
 ],
 "metadata": {
  "orig_nbformat": 4,
  "language_info": {
   "name": "python",
   "version": "3.9.6",
   "mimetype": "text/x-python",
   "codemirror_mode": {
    "name": "ipython",
    "version": 3
   },
   "pygments_lexer": "ipython3",
   "nbconvert_exporter": "python",
   "file_extension": ".py"
  },
  "kernelspec": {
   "name": "python3",
   "display_name": "Python 3.9.6 64-bit ('base': conda)"
  },
  "interpreter": {
   "hash": "6e877474a2f69abf93ff0788bb4753f9804efe5540cac16b9fab56086c1aa61b"
  }
 },
 "nbformat": 4,
 "nbformat_minor": 2
}