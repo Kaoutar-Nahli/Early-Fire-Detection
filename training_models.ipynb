{
 "cells": [
  {
   "cell_type": "code",
   "execution_count": null,
   "source": [
    "from tensorflow import summary\r\n",
    "%load_ext tensorboard\r\n",
    "import datetime\r\n",
    "current_time = str(datetime.datetime.now().timestamp())\r\n",
    "train_log_dir = 'logs/tensorboard/train/' + current_time\r\n",
    "test_log_dir = 'logs/tensorboard/test/' + current_time\r\n",
    "train_summary_writer = summary.create_file_writer(train_log_dir)\r\n",
    "test_summary_writer = summary.create_file_writer(test_log_dir)\r\n"
   ],
   "outputs": [],
   "metadata": {}
  },
  {
   "cell_type": "code",
   "execution_count": null,
   "source": [
    "%tensorboard --logdir logs/tensorboard"
   ],
   "outputs": [],
   "metadata": {}
  }
 ],
 "metadata": {
  "orig_nbformat": 4,
  "language_info": {
   "name": "python"
  }
 },
 "nbformat": 4,
 "nbformat_minor": 2
}