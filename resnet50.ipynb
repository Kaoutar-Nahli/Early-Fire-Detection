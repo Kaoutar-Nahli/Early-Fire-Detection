#%%
import torch
import torch.nn as nn
from torchvision import datasets, transforms, models
from numpy import isnan
import torch.nn.functional as F
import matplotlib.pyplot as plt
import sklearn
from torch.nn import functional as F
import matplotlib.pyplot as plt
import pandas as pd
from datetime import datetime
from os import path as os_path
from torch.utils.data import DataLoader
from sklearn import model_selection
from sklearn import preprocessing
from sklearn import preprocessing
from sklearn.metrics import f1_score
import torch.optim as optim
#%%
transforms_train = transforms.Compose([transforms.Resize(225),
                                       transforms.CenterCrop(224),
                                       transforms.ToTensor(),
                                       transforms.Normalize([0.5, 0.5, 0.5],
                                                            [0.5, 0.5, 0.5])])

transforms_test = transforms.Compose([transforms.Resize(225),
                                       transforms.CenterCrop(224),
                                       transforms.ToTensor(),
                                       transforms.Normalize([0.5, 0.5, 0.5],
                                                            [0.5, 0.5, 0.5])])

train_data = datasets.ImageFolder(root='data\FIRE-SMOKE-DATASET\Train', transform=transforms_train)
test_data = datasets.ImageFolder(root='data\FIRE-SMOKE-DATASET\Test', transform=transforms_test)
print(len(train_data), len(test_data))

#%%
#spliting the data
train_data, val_data = torch.utils.data.random_split(train_data, [2400,300])
#%%
train_data_loader = torch.utils.data.DataLoader(train_data, batch_size=64, shuffle=True)
val_data_loader = torch.utils.data.DataLoader(val_data, batch_size=64, shuffle=True)
test_data_loader = torch.utils.data.DataLoader(test_data,  batch_size=64, shuffle=True)


#%%
#generalizing and checking for GPU availability
device = torch.device("cuda" if torch.cuda.is_available() else "cpu")
print(device)
print(torch.cuda.is_available())
#%%
print(torch.--version)
#print(model)# shows layer architecture of the ResNet model
#%%
#freezing the pretrained layers
model = models.resnet50(pretrained=True)
for param in model.parameters():
    param.requires_grad = False
# redefine the final fully connected layers that we will trai with our images    
model.fc = nn.Sequential(nn.Linear(2048, 512),
                                 nn.ReLU(),
                                 nn.Dropout(0.2),
                                 nn.Linear(512, 10),
                                 nn.LogSoftmax(dim=1))
criterion = nn.NLLLoss()
optimizer = optim.Adam(model.fc.parameters(), lr=0.003)
model.to(device)

#%%
epochs = 20
steps = 0
running_loss = 0
print_every = 1
train_losses, test_losses = [], []
for epoch in range(epochs):
    for inputs, labels in train_data_loader:
        steps += 1
        inputs, labels = inputs.to(device), labels.to(device)
        optimizer.zero_grad()
        logps = model.forward(inputs)
        loss = criterion(logps, labels)
        loss.backward()
        optimizer.step()
        running_loss += loss.item()
        
        if steps % print_every == 0:
            test_loss = 0
            accuracy = 0
            model.eval() # evaluation mode
            with torch.no_grad():
                for inputs, labels in test_data_loader:
                    inputs, labels = inputs.to(device),labels.to(device)
                    logps = model.forward(inputs)
                    batch_loss = criterion(logps, labels)
                    test_loss += batch_loss.item()
                    ps = torch.exp(logps) #Returns a new tensor with the exponential of the elements of the input tensor
                    top_p, top_class = ps.topk(1, dim=1)#Returns the k largest elements of the given input tensor along a given dimension
                    equals = top_class == labels.view(*top_class.shape)#Returns a new tensor with the same data as the self tensor but of a different shape
                    accuracy +=torch.mean(equals.type(torch.FloatTensor)).item()
            train_losses.append(running_loss/len(train_data_loader))# training loss per batch (38 batchses), 64 points per batch, 2700 p0ints
            test_losses.append(test_loss/len(test_data_loader)) # test loss  calculated in the 300 points in batches?                
            print(f"Epoch {epoch+1}/{epochs}.. "
                  f"Train loss: {running_loss/print_every:.3f}.. " # running loss is calculated per each batch and printed every : print_every
                  f"Test loss: {test_loss/len(test_data_loader):.3f}.. "# test loss is the sum of the batch loss in the test data and divided by number of batches= 300/64
                  f"Test accuracy: {accuracy/len(test_data_loader):.3f}")
            running_loss = 0
            model.train()# turning back to training mode
#%%
torch.save(model.state_dict(), 'model_state_dict.pt')

torch.save(model, 'model.pt')
#%%
torch.save(optimizer.state_dict(), 'model_optimizer_state_dict.pt')

plt.plot(train_losses, label='Training loss')
plt.plot(test_losses, label='Validation loss')
plt.show()
plt.savefig('Resnet_Loss_20_epochs.png')
#%%
df = pd.DataFrame(list(zip(train_losses, test_losses)),
               columns =['train_losses', 'test_losses'])
df.to_csv('Resnet_Loss_20_epochs')

'''
poch 1/20.. Train loss: 2.320.. Test loss: 0.900.. Test accuracy: 0.474
Epoch 1/20.. Train loss: 1.099.. Test loss: 4.622.. Test accuracy: 0.335
Epoch 1/20.. Train loss: 5.000.. Test loss: 6.926.. Test accuracy: 0.331


Epoch 1/20.. Train loss: 0.220.. Test loss: 0.247.. Test accuracy: 0.899
Epoch 1/20.. Train loss: 0.219.. Test loss: 0.215.. Test accuracy: 0.924
Epoch 1/20.. Train loss: 0.205.. Test loss: 0.213.. Test accuracy: 0.929


Epoch 2/20.. Train loss: 0.252.. Test loss: 0.258.. Test accuracy: 0.921
Epoch 2/20.. Train loss: 0.343.. Test loss: 0.265.. Test accuracy: 0.919
Epoch 2/20.. Train loss: 0.181.. Test loss: 0.257.. Test accuracy: 0.919
Epoch 2/20.. Train loss: 0.325.. Test loss: 0.250.. Test accuracy: 0.914
Epoch 2/20.. Train loss: 0.269.. Test loss: 0.248.. Test accuracy: 0.922


Epoch 4/20.. Train loss: 0.168.. Test loss: 0.215.. Test accuracy: 0.927
Epoch 5/20.. Train loss: 0.200.. Test loss: 0.229.. Test accuracy: 0.927



Epoch 5/20.. Train loss: 0.084.. Test loss: 0.234.. Test accuracy: 0.905
Epoch 5/20.. Train loss: 0.196.. Test loss: 0.274.. Test accuracy: 0.884
Epoch 5/20.. Train loss: 0.081.. Test loss: 0.353.. Test accuracy: 0.848
Epoch 12/20.. Train loss: 0.059.. Test loss: 0.252.. Test accuracy: 0.901
Epoch 12/20.. Train loss: 0.111.. Test loss: 0.287.. Test accuracy: 0.900
Epoch 12/20.. Train loss: 0.208.. Test loss: 0.287.. Test accuracy: 0.904


Epoch 15/20.. Train loss: 0.107.. Test loss: 0.332.. Test accuracy: 0.904 26/08/2021 13:08

Epoch 16/20.. Train loss: 0.087.. Test loss: 0.269.. Test accuracy: 0.907  26/08/2021 14:08

Epoch 17/20.. Train loss: 0.039.. Test loss: 0.175.. Test accuracy: 0.949  26/08/2021 15:50


Epoch 18/20.. Train loss: 0.116.. Test loss: 0.166.. Test accuracy: 0.947  26/08/2021 17:10
'''

#How to Train an Image Classifier in PyTorch and use it to Perform Basic Inference on Single Images
# predict and visualize some pictures












# %%
